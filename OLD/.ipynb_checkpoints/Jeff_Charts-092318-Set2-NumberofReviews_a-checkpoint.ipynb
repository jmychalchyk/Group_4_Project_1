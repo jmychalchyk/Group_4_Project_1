{
 "cells": [
  {
   "cell_type": "code",
   "execution_count": null,
   "metadata": {},
   "outputs": [],
   "source": [
    "%matplotlib inline\n",
    "import pandas as pd\n",
    "import matplotlib.pyplot as plt"
   ]
  },
  {
   "cell_type": "code",
   "execution_count": null,
   "metadata": {},
   "outputs": [],
   "source": [
    "file = \"data/combined_thin.csv\"\n",
    "dfnew = pd.read_csv(file,low_memory=False)"
   ]
  },
  {
   "cell_type": "code",
   "execution_count": null,
   "metadata": {},
   "outputs": [],
   "source": [
    "df=dfnew.loc[dfnew['review_scores_rating']>0]"
   ]
  },
  {
   "cell_type": "code",
   "execution_count": null,
   "metadata": {},
   "outputs": [],
   "source": [
    "df.head()"
   ]
  },
  {
   "cell_type": "code",
   "execution_count": null,
   "metadata": {},
   "outputs": [],
   "source": [
    "bins = [0, 50, 100, 200 ,300, 9999]\n",
    "group_names = [\"<50\", \"50 to 100\", \"100 to 200\", \"200 to 300\", \">300\"]\n",
    "df[\"review_count\"] = pd.cut(df[\"number_of_reviews\"], bins, labels=group_names)"
   ]
  },
  {
   "cell_type": "code",
   "execution_count": null,
   "metadata": {},
   "outputs": [],
   "source": [
    "lst=[]\n",
    "lst=['Accessible', 'Air conditioning', \n",
    "       'BBQ grill', 'Baby friendly','Changing table', 'Bath towel', 'Bathtub',\n",
    "       'Beachfront', \n",
    "       'Breakfast',  'Coffee maker',\n",
    "        'Dishwasher', 'Doorman',\n",
    "       'Elevator', 'Extra pillows and blankets',\n",
    "       'Family/kid friendly',\n",
    "       'Firm mattress', 'First aid kit',\n",
    "       'Free parking', 'Game console',\n",
    "       'Garden or backyard', 'Gym',\n",
    "       'Heating',\n",
    "         'Hot tub', \n",
    "       'Indoor fireplace', 'Internet', 'Iron', 'Keypad', 'Kitchen',\n",
    "       'Laptop friendly workspace', 'Lock on bedroom door',\n",
    "       'Long term stays allowed',\n",
    "       'Pool', 'Private bathroom', 'Private entrance', 'Private living room',\n",
    "       'Refrigerator', 'Smoking allowed',\n",
    "       'Stove', 'Suitable for events', 'TV']"
   ]
  },
  {
   "cell_type": "code",
   "execution_count": null,
   "metadata": {},
   "outputs": [],
   "source": [
    "df1 = df[['review_count','review_scores_rating']].groupby('review_count').mean()\n",
    "df1b=df1.rename(columns={'review_scores_rating': 'AverageRating'})"
   ]
  },
  {
   "cell_type": "code",
   "execution_count": null,
   "metadata": {},
   "outputs": [],
   "source": [
    "for each in lst:\n",
    "    df2 = df.loc[df[each]>0]\n",
    "    df2b =df2[['review_count','review_scores_rating']].groupby('review_count').mean()\n",
    "    df1b=df1b.join(df2b.rename(columns={'review_scores_rating': each}), on='review_count',how='left')"
   ]
  },
  {
   "cell_type": "code",
   "execution_count": null,
   "metadata": {},
   "outputs": [],
   "source": [
    "df_chart = df1b"
   ]
  },
  {
   "cell_type": "code",
   "execution_count": null,
   "metadata": {},
   "outputs": [],
   "source": [
    "df_chart.head()"
   ]
  },
  {
   "cell_type": "code",
   "execution_count": null,
   "metadata": {},
   "outputs": [],
   "source": [
    "lst1=['Accessible', 'Air conditioning', \n",
    "       'BBQ grill', 'Baby friendly','Changing table', 'Bath towel']\n",
    "lst2=['Bathtub',\n",
    "       'Beachfront', \n",
    "       'Breakfast',  'Coffee maker',\n",
    "        'Dishwasher']\n",
    "lst3=['Doorman',\n",
    "       'Elevator', 'Extra pillows and blankets',\n",
    "       'Family/kid friendly',\n",
    "       'Firm mattress']\n",
    "lst4=['First aid kit',\n",
    "       'Free parking', 'Game console',\n",
    "       'Garden or backyard', 'Gym']\n",
    "lst5=['Heating',\n",
    "         'Hot tub', \n",
    "       'Indoor fireplace', 'Internet', 'Iron']\n",
    "lst6=['Keypad', 'Kitchen',\n",
    "       'Laptop friendly workspace', 'Lock on bedroom door',\n",
    "       'Long term stays allowed']\n",
    "lst7=['Pool', 'Private bathroom', 'Private entrance', 'Private living room',\n",
    "       'Refrigerator']\n",
    "lst8=['Smoking allowed',\n",
    "       'Stove', 'Suitable for events', 'TV']\n"
   ]
  },
  {
   "cell_type": "code",
   "execution_count": null,
   "metadata": {
    "scrolled": false
   },
   "outputs": [],
   "source": [
    "color = 'blue'\n",
    "#plt.figure(figsize=(12,4))\n",
    "#plt.bar(df_chart.index, df_chart['AverageRating'],alpha=.3,  color=color, edgecolor = \"black\",linewidth=1)\n",
    "for each in lst1:\n",
    "    plt.plot(df_chart.index, df_chart[str(each)]\n",
    "#for each in lst1:\n",
    "#    plt.plot(df_chart.index, df_chart[str(each)],alpha=.7,linestyle='None',marker='_',mew=4,ms=14)\n",
    "#plt.tick_params(axis='x',rotation=90)\n",
    "#plt.ylim(90,100)\n",
    "#plt.legend(bbox_to_anchor=(1, 1.0))\n",
    "#plt.title('Average Overal Rating vs Average Rating with Amenities by Review Count')\n",
    "#plt.ylabel('Average Rating')\n",
    "#plt.xlabel('Review Count')\n",
    "#plt.tight_layout()\n",
    "#plt.savefig(\"Images/Chart1_Set3.png\")\n",
    "plt.show()\n"
   ]
  },
  {
   "cell_type": "code",
   "execution_count": null,
   "metadata": {},
   "outputs": [],
   "source": [
    "color = 'yellow'\n",
    "plt.figure(figsize=(12,4))\n",
    "plt.bar(df_chart.index, df_chart['AverageRating'],alpha=.3,  color=color, edgecolor = \"black\",linewidth=1)\n",
    "for each in lst2:\n",
    "    plt.plot(df_chart.index, df_chart[str(each)],alpha=.7,linestyle='None',marker='_',mew=4,ms=14)\n",
    "plt.tick_params(axis='x',rotation=90)\n",
    "plt.ylim(80,105)\n",
    "plt.legend(bbox_to_anchor=(1, 1.0))\n",
    "plt.title('Average Overal Rating vs Average Rating with Amenities by Property type')\n",
    "plt.ylabel('Average Rating')\n",
    "plt.xlabel('Property Type')\n",
    "plt.tight_layout()\n",
    "plt.savefig(\"Images/Chart2_Set2.png\")\n",
    "plt.show()\n"
   ]
  },
  {
   "cell_type": "code",
   "execution_count": null,
   "metadata": {},
   "outputs": [],
   "source": [
    "color = 'yellow'\n",
    "plt.figure(figsize=(12,4))\n",
    "plt.bar(df_chart.index, df_chart['AverageRating'],alpha=.3,  color=color, edgecolor = \"black\",linewidth=1)\n",
    "for each in lst3:\n",
    "    plt.plot(df_chart.index, df_chart[str(each)],alpha=.7,linestyle='None',marker='_',mew=4,ms=14)\n",
    "plt.tick_params(axis='x',rotation=90)\n",
    "plt.ylim(80,105)\n",
    "plt.legend(bbox_to_anchor=(1, 1.0))\n",
    "plt.title('Average Overal Rating vs Average Rating with Amenities by Property type')\n",
    "plt.ylabel('Average Rating')\n",
    "plt.xlabel('Property Type')\n",
    "plt.tight_layout()\n",
    "plt.savefig(\"Images/Chart3_Set2.png\")\n",
    "plt.show()\n"
   ]
  },
  {
   "cell_type": "code",
   "execution_count": null,
   "metadata": {},
   "outputs": [],
   "source": [
    "color = 'yellow'\n",
    "plt.figure(figsize=(12,4))\n",
    "plt.bar(df_chart.index, df_chart['AverageRating'],alpha=.3,  color=color, edgecolor = \"black\",linewidth=1)\n",
    "for each in lst4:\n",
    "    plt.plot(df_chart.index, df_chart[str(each)],alpha=.7,linestyle='None',marker='_',mew=4,ms=14)\n",
    "plt.tick_params(axis='x',rotation=90)\n",
    "plt.ylim(80,105)\n",
    "plt.legend(bbox_to_anchor=(1, 1.0))\n",
    "plt.title('Average Overal Rating vs Average Rating with Amenities by Property type')\n",
    "plt.ylabel('Average Rating')\n",
    "plt.xlabel('Property Type')\n",
    "plt.tight_layout()\n",
    "plt.savefig(\"Images/Chart4_Set2.png\")\n",
    "plt.show()\n"
   ]
  },
  {
   "cell_type": "code",
   "execution_count": null,
   "metadata": {},
   "outputs": [],
   "source": [
    "color = 'yellow'\n",
    "plt.figure(figsize=(12,4))\n",
    "plt.bar(df_chart.index, df_chart['AverageRating'],alpha=.3,  color=color, edgecolor = \"black\",linewidth=1)\n",
    "for each in lst5:\n",
    "    plt.plot(df_chart.index, df_chart[str(each)],alpha=.7,linestyle='None',marker='_',mew=4,ms=14)\n",
    "plt.tick_params(axis='x',rotation=90)\n",
    "plt.ylim(80,105)\n",
    "plt.legend(bbox_to_anchor=(1, 1.0))\n",
    "plt.title('Average Overal Rating vs Average Rating with Amenities by Property type')\n",
    "plt.ylabel('Average Rating')\n",
    "plt.xlabel('Property Type')\n",
    "plt.tight_layout()\n",
    "plt.savefig(\"Images/Chart5_Set2.png\")\n",
    "plt.show()\n"
   ]
  },
  {
   "cell_type": "code",
   "execution_count": null,
   "metadata": {},
   "outputs": [],
   "source": [
    "color = 'yellow'\n",
    "plt.figure(figsize=(12,4))\n",
    "plt.bar(df_chart.index, df_chart['AverageRating'],alpha=.3,  color=color, edgecolor = \"black\",linewidth=1)\n",
    "for each in lst6:\n",
    "    plt.plot(df_chart.index, df_chart[str(each)],alpha=.7,linestyle='None',marker='_',mew=4,ms=14)\n",
    "plt.tick_params(axis='x',rotation=90)\n",
    "plt.ylim(80,105)\n",
    "plt.legend(bbox_to_anchor=(1, 1.0))\n",
    "plt.title('Average Overal Rating vs Average Rating with Amenities by Property type')\n",
    "plt.ylabel('Average Rating')\n",
    "plt.xlabel('Property Type')\n",
    "plt.tight_layout()\n",
    "plt.savefig(\"Images/Chart6_Set2.png\")\n",
    "plt.show()\n"
   ]
  },
  {
   "cell_type": "code",
   "execution_count": null,
   "metadata": {},
   "outputs": [],
   "source": [
    "color = 'yellow'\n",
    "plt.figure(figsize=(12,4))\n",
    "plt.bar(df_chart.index, df_chart['AverageRating'],alpha=.3,  color=color, edgecolor = \"black\",linewidth=1)\n",
    "for each in lst7:\n",
    "    plt.plot(df_chart.index, df_chart[str(each)],alpha=.7,linestyle='None',marker='_',mew=4,ms=14)\n",
    "plt.tick_params(axis='x',rotation=90)\n",
    "plt.ylim(80,105)\n",
    "plt.legend(bbox_to_anchor=(1, 1.0))\n",
    "plt.title('Average Overal Rating vs Average Rating with Amenities by Property type')\n",
    "plt.ylabel('Average Rating')\n",
    "plt.xlabel('Property Type')\n",
    "plt.tight_layout()\n",
    "plt.savefig(\"Images/Chart7_Set2.png\")\n",
    "plt.show()\n"
   ]
  },
  {
   "cell_type": "code",
   "execution_count": null,
   "metadata": {},
   "outputs": [],
   "source": [
    "color = 'yellow'\n",
    "plt.figure(figsize=(12,4))\n",
    "plt.bar(df_chart.index, df_chart['AverageRating'],alpha=.3,  color=color, edgecolor = \"black\",linewidth=1)\n",
    "for each in lst8:\n",
    "    plt.plot(df_chart.index, df_chart[str(each)],alpha=.7,linestyle='None',marker='_',mew=4,ms=14)\n",
    "plt.tick_params(axis='x',rotation=90)\n",
    "plt.ylim(80,105)\n",
    "plt.legend(bbox_to_anchor=(1, 1.0))\n",
    "plt.title('Average Overal Rating vs Average Rating with Amenities by Property type')\n",
    "plt.ylabel('Average Rating')\n",
    "plt.xlabel('Property Type')\n",
    "plt.tight_layout()\n",
    "plt.savefig(\"Images/Chart8_Set2.png\")\n",
    "plt.show()\n"
   ]
  },
  {
   "cell_type": "code",
   "execution_count": null,
   "metadata": {},
   "outputs": [],
   "source": []
  }
 ],
 "metadata": {
  "kernelspec": {
   "display_name": "Python 3",
   "language": "python",
   "name": "python3"
  },
  "language_info": {
   "codemirror_mode": {
    "name": "ipython",
    "version": 3
   },
   "file_extension": ".py",
   "mimetype": "text/x-python",
   "name": "python",
   "nbconvert_exporter": "python",
   "pygments_lexer": "ipython3",
   "version": "3.6.5"
  }
 },
 "nbformat": 4,
 "nbformat_minor": 2
}
